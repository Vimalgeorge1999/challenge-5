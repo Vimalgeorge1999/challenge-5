{
 "cells": [
  {
   "cell_type": "code",
   "execution_count": 18,
   "id": "c790d998",
   "metadata": {},
   "outputs": [
    {
     "name": "stdout",
     "output_type": "stream",
     "text": [
      "balance after deposit: 2500\n",
      "None\n",
      "balance after withraw: 2000\n",
      "None\n",
      "the interest amount is: 100.0\n",
      "None\n"
     ]
    }
   ],
   "source": [
    "class account:\n",
    "    def __init__(self,title,balance=0):\n",
    "        self.title=title\n",
    "        self.balance=balance\n",
    "    def deposit(self,amount):\n",
    "        self.balance=self.balance+amount\n",
    "        print(\"balance after deposit:\",self.balance)\n",
    "    def withdraw(self,amount):\n",
    "        self.balance=self.balance-amount\n",
    "        print(\"balance after withraw:\",self.balance)\n",
    "class savingsaccount(account):\n",
    "    def __init__(self,title,balance=0,interestrate=0):\n",
    "        super().__init__(title,balance)\n",
    "        self.interestrate=interestrate\n",
    "    def interestamount(self,intrate):\n",
    "        interestamount=self.interestrate*self.balance/100\n",
    "        print(\"the interest amount is:\",interestamount)\n",
    "demo1=savingsaccount(\"ashish\",2000,5)\n",
    "print(demo1.deposit(500))\n",
    "print(demo1.withdraw(500))\n",
    "print(demo1.interestamount(5))\n",
    "\n"
   ]
  }
 ],
 "metadata": {
  "kernelspec": {
   "display_name": "Python 3 (ipykernel)",
   "language": "python",
   "name": "python3"
  },
  "language_info": {
   "codemirror_mode": {
    "name": "ipython",
    "version": 3
   },
   "file_extension": ".py",
   "mimetype": "text/x-python",
   "name": "python",
   "nbconvert_exporter": "python",
   "pygments_lexer": "ipython3",
   "version": "3.11.0"
  }
 },
 "nbformat": 4,
 "nbformat_minor": 5
}
